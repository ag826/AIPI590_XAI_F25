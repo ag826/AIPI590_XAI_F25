{
  "nbformat": 4,
  "nbformat_minor": 0,
  "metadata": {
    "colab": {
      "provenance": [],
      "authorship_tag": "ABX9TyOB6JjzCLxjq0cAE25y3z7N",
      "include_colab_link": true
    },
    "kernelspec": {
      "name": "python3",
      "display_name": "Python 3"
    },
    "language_info": {
      "name": "python"
    }
  },
  "cells": [
    {
      "cell_type": "markdown",
      "metadata": {
        "id": "view-in-github",
        "colab_type": "text"
      },
      "source": [
        "<a href=\"https://colab.research.google.com/github/ag826/AIPI590_XAI_F25/blob/main/Assignment_Interpretable_ML_II.ipynb\" target=\"_parent\"><img src=\"https://colab.research.google.com/assets/colab-badge.svg\" alt=\"Open In Colab\"/></a>"
      ]
    },
    {
      "cell_type": "markdown",
      "source": [
        "[![Open In Collab](https://colab.research.google.com/assets/colab-badge.svg)](\n",
        "https://github.com/ag826/AIPI590_XAI_F25/blob/main/Assignment_Interpretable_ML_II.ipynb)\n",
        "\n",
        "\n",
        "# Assignment - Interpretable ML II\n",
        "**Adil Keku Gazder**\n",
        "\n",
        "**ag825@duke.edu**\n",
        "\n",
        "**For AIPI 590 - XAI, Fall 2025**\n",
        "\n",
        "**Duke University**\n",
        "\n",
        "https://colab.research.google.com/drive/1VM6rt1xVf9_7DBfhbGrV51gLvrA1Eg0b\n"
      ],
      "metadata": {
        "id": "NjJaWRaU1j6J"
      }
    },
    {
      "cell_type": "markdown",
      "source": [
        "For a Wine dataset, we use physiochemical characteristics to try and model the grade of the wine. We use PDP, ICE and ALE plots and analyze the findings from these plots."
      ],
      "metadata": {
        "id": "XGq6xfjb2Lr-"
      }
    },
    {
      "cell_type": "markdown",
      "source": [
        "### **Code to connect with github**\n",
        "\n",
        "Adapted from the starter code shared by Brinnae Bent, shared here: https://github.com/AIPI-590-XAI/Duke-AI-XAI/blob/main/templates/template.ipynb"
      ],
      "metadata": {
        "id": "Z8i7YdxN2saf"
      }
    },
    {
      "cell_type": "markdown",
      "source": [
        "### **Installing required packages**"
      ],
      "metadata": {
        "id": "sfwIHBhF3ITs"
      }
    },
    {
      "cell_type": "code",
      "source": [
        "pip install ucimlrepo"
      ],
      "metadata": {
        "colab": {
          "base_uri": "https://localhost:8080/"
        },
        "id": "NsI_N2nQcQ0F",
        "outputId": "32c955c2-dbaf-431c-f892-398058a94a34"
      },
      "execution_count": 1,
      "outputs": [
        {
          "output_type": "stream",
          "name": "stdout",
          "text": [
            "Collecting ucimlrepo\n",
            "  Downloading ucimlrepo-0.0.7-py3-none-any.whl.metadata (5.5 kB)\n",
            "Requirement already satisfied: pandas>=1.0.0 in /usr/local/lib/python3.12/dist-packages (from ucimlrepo) (2.2.2)\n",
            "Requirement already satisfied: certifi>=2020.12.5 in /usr/local/lib/python3.12/dist-packages (from ucimlrepo) (2025.8.3)\n",
            "Requirement already satisfied: numpy>=1.26.0 in /usr/local/lib/python3.12/dist-packages (from pandas>=1.0.0->ucimlrepo) (2.0.2)\n",
            "Requirement already satisfied: python-dateutil>=2.8.2 in /usr/local/lib/python3.12/dist-packages (from pandas>=1.0.0->ucimlrepo) (2.9.0.post0)\n",
            "Requirement already satisfied: pytz>=2020.1 in /usr/local/lib/python3.12/dist-packages (from pandas>=1.0.0->ucimlrepo) (2025.2)\n",
            "Requirement already satisfied: tzdata>=2022.7 in /usr/local/lib/python3.12/dist-packages (from pandas>=1.0.0->ucimlrepo) (2025.2)\n",
            "Requirement already satisfied: six>=1.5 in /usr/local/lib/python3.12/dist-packages (from python-dateutil>=2.8.2->pandas>=1.0.0->ucimlrepo) (1.17.0)\n",
            "Downloading ucimlrepo-0.0.7-py3-none-any.whl (8.0 kB)\n",
            "Installing collected packages: ucimlrepo\n",
            "Successfully installed ucimlrepo-0.0.7\n"
          ]
        }
      ]
    },
    {
      "cell_type": "code",
      "source": [
        "import pandas as pd\n",
        "import numpy as np\n",
        "import matplotlib.pyplot as plt\n",
        "import seaborn as sns\n",
        "from sklearn.model_selection import train_test_split\n",
        "from sklearn.linear_model import LinearRegression, LogisticRegression\n",
        "\n",
        "from sklearn.metrics import mean_squared_error\n",
        "from sklearn.metrics import r2_score\n",
        "from sklearn.metrics import classification_report\n",
        "from sklearn.metrics import (\n",
        "    confusion_matrix,\n",
        "    roc_curve,\n",
        "    roc_auc_score,\n",
        "    recall_score,\n",
        "    accuracy_score,\n",
        "    precision_score,\n",
        "    f1_score,\n",
        "    mean_squared_error,\n",
        "    mean_absolute_error\n",
        ")\n",
        "from sklearn.preprocessing import LabelEncoder, StandardScaler\n"
      ],
      "metadata": {
        "id": "f8oG1TCSMrrm"
      },
      "execution_count": 3,
      "outputs": []
    },
    {
      "cell_type": "code",
      "source": [
        "from ucimlrepo import fetch_ucirepo\n",
        "\n",
        "wine_quality = fetch_ucirepo(id=186)\n",
        "df = wine_quality.data.original"
      ],
      "metadata": {
        "id": "fNQTmQyseiD0"
      },
      "execution_count": 4,
      "outputs": []
    },
    {
      "cell_type": "markdown",
      "source": [
        "## **1. Exploratory Data Analysis**\n",
        "\n",
        "Code to get a better understanding of the dataset that we are working with, including a descripitive overview, samples and null values present in each column.\n",
        "\n",
        "We also do a tad bit of preprocessing, including grouping numeric and categoric (dtype objects) columns together, along with visualizing our outcome variable (Churn against categorical variables)."
      ],
      "metadata": {
        "id": "px0z2D8GbHvg"
      }
    },
    {
      "cell_type": "code",
      "source": [
        "print(\"#####################################################\")\n",
        "print(\"--- Shape Info ---\")\n",
        "print(\"#####################################################\")\n",
        "print(\"\")\n",
        "print(df.shape)\n",
        "print(\"\")\n",
        "print(\"#####################################################\")\n",
        "print(\"--- Initial Data Info ---\")\n",
        "print(\"#####################################################\")\n",
        "print(\"\")\n",
        "df.info()\n",
        "print(\"\")\n",
        "print(\"#####################################################\")\n",
        "print(\"--- First 5 Rows of Data ---\")\n",
        "print(\"#####################################################\")\n",
        "print(\"\")\n",
        "print(df.head())\n",
        "print(\"\")\n",
        "print(\"#####################################################\")\n",
        "print(\"--- Null values of each column ---\")\n",
        "print(\"#####################################################\")\n",
        "print(\"\")\n",
        "print(df.isnull().sum())\n",
        "print(\"\")\n",
        "print(\"#####################################################\")\n",
        "print(\"--- Data types of each column ---\")\n",
        "print(\"#####################################################\")\n",
        "print(\"\")\n",
        "print(df.dtypes)\n"
      ],
      "metadata": {
        "id": "0nHCl7IaOLjd",
        "colab": {
          "base_uri": "https://localhost:8080/"
        },
        "outputId": "36bbdcda-63b2-4a9a-9efe-afe963ca2db2"
      },
      "execution_count": 5,
      "outputs": [
        {
          "output_type": "stream",
          "name": "stdout",
          "text": [
            "#####################################################\n",
            "--- Shape Info ---\n",
            "#####################################################\n",
            "\n",
            "(6497, 13)\n",
            "\n",
            "#####################################################\n",
            "--- Initial Data Info ---\n",
            "#####################################################\n",
            "\n",
            "<class 'pandas.core.frame.DataFrame'>\n",
            "RangeIndex: 6497 entries, 0 to 6496\n",
            "Data columns (total 13 columns):\n",
            " #   Column                Non-Null Count  Dtype  \n",
            "---  ------                --------------  -----  \n",
            " 0   fixed_acidity         6497 non-null   float64\n",
            " 1   volatile_acidity      6497 non-null   float64\n",
            " 2   citric_acid           6497 non-null   float64\n",
            " 3   residual_sugar        6497 non-null   float64\n",
            " 4   chlorides             6497 non-null   float64\n",
            " 5   free_sulfur_dioxide   6497 non-null   float64\n",
            " 6   total_sulfur_dioxide  6497 non-null   float64\n",
            " 7   density               6497 non-null   float64\n",
            " 8   pH                    6497 non-null   float64\n",
            " 9   sulphates             6497 non-null   float64\n",
            " 10  alcohol               6497 non-null   float64\n",
            " 11  quality               6497 non-null   int64  \n",
            " 12  color                 6497 non-null   object \n",
            "dtypes: float64(11), int64(1), object(1)\n",
            "memory usage: 660.0+ KB\n",
            "\n",
            "#####################################################\n",
            "--- First 5 Rows of Data ---\n",
            "#####################################################\n",
            "\n",
            "   fixed_acidity  volatile_acidity  citric_acid  residual_sugar  chlorides  \\\n",
            "0            7.4              0.70         0.00             1.9      0.076   \n",
            "1            7.8              0.88         0.00             2.6      0.098   \n",
            "2            7.8              0.76         0.04             2.3      0.092   \n",
            "3           11.2              0.28         0.56             1.9      0.075   \n",
            "4            7.4              0.70         0.00             1.9      0.076   \n",
            "\n",
            "   free_sulfur_dioxide  total_sulfur_dioxide  density    pH  sulphates  \\\n",
            "0                 11.0                  34.0   0.9978  3.51       0.56   \n",
            "1                 25.0                  67.0   0.9968  3.20       0.68   \n",
            "2                 15.0                  54.0   0.9970  3.26       0.65   \n",
            "3                 17.0                  60.0   0.9980  3.16       0.58   \n",
            "4                 11.0                  34.0   0.9978  3.51       0.56   \n",
            "\n",
            "   alcohol  quality color  \n",
            "0      9.4        5   red  \n",
            "1      9.8        5   red  \n",
            "2      9.8        5   red  \n",
            "3      9.8        6   red  \n",
            "4      9.4        5   red  \n",
            "\n",
            "#####################################################\n",
            "--- Null values of each column ---\n",
            "#####################################################\n",
            "\n",
            "fixed_acidity           0\n",
            "volatile_acidity        0\n",
            "citric_acid             0\n",
            "residual_sugar          0\n",
            "chlorides               0\n",
            "free_sulfur_dioxide     0\n",
            "total_sulfur_dioxide    0\n",
            "density                 0\n",
            "pH                      0\n",
            "sulphates               0\n",
            "alcohol                 0\n",
            "quality                 0\n",
            "color                   0\n",
            "dtype: int64\n",
            "\n",
            "#####################################################\n",
            "--- Data types of each column ---\n",
            "#####################################################\n",
            "\n",
            "fixed_acidity           float64\n",
            "volatile_acidity        float64\n",
            "citric_acid             float64\n",
            "residual_sugar          float64\n",
            "chlorides               float64\n",
            "free_sulfur_dioxide     float64\n",
            "total_sulfur_dioxide    float64\n",
            "density                 float64\n",
            "pH                      float64\n",
            "sulphates               float64\n",
            "alcohol                 float64\n",
            "quality                   int64\n",
            "color                    object\n",
            "dtype: object\n"
          ]
        }
      ]
    }
  ]
}