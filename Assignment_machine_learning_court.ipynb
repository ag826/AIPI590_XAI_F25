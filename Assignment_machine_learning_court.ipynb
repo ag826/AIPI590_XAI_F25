{
  "cells": [
    {
      "cell_type": "markdown",
      "metadata": {
        "id": "view-in-github",
        "colab_type": "text"
      },
      "source": [
        "<a href=\"https://colab.research.google.com/github/ag826/AIPI590_XAI_F25/blob/main/Assignment_machine_learning_court.ipynb\" target=\"_parent\"><img src=\"https://colab.research.google.com/assets/colab-badge.svg\" alt=\"Open In Colab\"/></a>"
      ]
    },
    {
      "cell_type": "markdown",
      "id": "dfa6cc37",
      "metadata": {
        "id": "dfa6cc37"
      },
      "source": [
        "# Assignment - Interpretable ML\n",
        "**Adil Keku Gazder**\n",
        "\n",
        "**ag825@duke.edu**\n",
        "\n",
        "**For AIPI 590 - XAI, Fall 2025**\n",
        "\n",
        "**Duke University**\n",
        "\n",
        "# 👩‍⚖️ ⚖️ Machine Learning Court\n",
        "\n",
        "Assigned case: **⚖️ Case 3: Recidivism Prediction 🟦 Defense**\n",
        "\n",
        "\n",
        "\n"
      ]
    },
    {
      "cell_type": "markdown",
      "id": "7yiVRowlRzxz",
      "metadata": {
        "id": "7yiVRowlRzxz"
      },
      "source": [
        "## ⚖️ Case 3: Recidivism Risk – COMPAS Dataset\n",
        "#### 🔍 Scenario\n",
        "Malik Johnson, a 27-year-old with one prior felony, was flagged as low risk by an AI risk assessment tool and granted parole. Some community stakeholders have questioned whether this was an appropriate classification.\n",
        "\n",
        "#### 🟥 Prosecution\n",
        "Examine whether the model may have underestimated risk factors. Use explanation techniques to uncover potential oversights or inconsistencies.\n",
        "\n",
        "#### 🟦 Defense\n",
        "Argue that the decision was reasonable based on the model's criteria. Use explanation tools to show which features were most influential and whether the classification aligns with data-driven patterns."
      ]
    },
    {
      "cell_type": "markdown",
      "source": [
        "Adapted from the starter code shared by Brinnae Bent, shared here: https://github.com/AIPI-590-XAI/Duke-AI-XAI/blob/main/assignments/machine_learning_court.ipynb"
      ],
      "metadata": {
        "id": "uR7LtZeq6R0B"
      },
      "id": "uR7LtZeq6R0B"
    },
    {
      "cell_type": "code",
      "execution_count": 1,
      "id": "40c14573",
      "metadata": {
        "colab": {
          "base_uri": "https://localhost:8080/"
        },
        "id": "40c14573",
        "outputId": "9d2b31b7-619f-4e39-d8fd-4e0b480d49f9"
      },
      "outputs": [
        {
          "output_type": "stream",
          "name": "stdout",
          "text": [
            "              precision    recall  f1-score   support\n",
            "\n",
            "           0       0.68      0.68      0.68       823\n",
            "           1       0.57      0.57      0.57       620\n",
            "\n",
            "    accuracy                           0.63      1443\n",
            "   macro avg       0.62      0.62      0.62      1443\n",
            "weighted avg       0.63      0.63      0.63      1443\n",
            "\n"
          ]
        }
      ],
      "source": [
        "# ⚖️ Case 3: Recidivism Prediction (COMPAS Dataset)\n",
        "\n",
        "import pandas as pd\n",
        "import numpy as np\n",
        "from sklearn.model_selection import train_test_split\n",
        "from sklearn.ensemble import RandomForestClassifier\n",
        "from sklearn.metrics import classification_report\n",
        "\n",
        "# Load dataset\n",
        "url = \"https://raw.githubusercontent.com/propublica/compas-analysis/master/compas-scores-two-years.csv\"\n",
        "df_compas = pd.read_csv(url)\n",
        "\n",
        "# Filter relevant columns and preprocess\n",
        "features = ['age', 'sex', 'race', 'priors_count', 'juv_fel_count', 'juv_misd_count', 'juv_other_count', 'c_charge_degree']\n",
        "df = df_compas[features + ['two_year_recid']].dropna()\n",
        "df = df[df['c_charge_degree'].isin(['F', 'M'])]  # Filter valid degrees\n",
        "\n",
        "# Encode categoricals\n",
        "df = df.copy()\n",
        "df['sex'] = df['sex'].astype('category').cat.codes\n",
        "df['race'] = df['race'].astype('category').cat.codes\n",
        "df['c_charge_degree'] = df['c_charge_degree'].astype('category').cat.codes\n",
        "\n",
        "X = df[features]\n",
        "y = df['two_year_recid']\n",
        "\n",
        "X_train, X_test, y_train, y_test = train_test_split(X, y, test_size=0.2, random_state=42)\n",
        "\n",
        "model_compas = RandomForestClassifier(random_state=42)\n",
        "model_compas.fit(X_train, y_train)\n",
        "print(classification_report(y_test, model_compas.predict(X_test)))\n"
      ]
    },
    {
      "cell_type": "markdown",
      "source": [
        "> This dataset explores various factors which try and model a two year recidivism flag for individuals. We specifically only include the following features: age, sex, race, number of priors, juvinile felony count, juvinile misdimenour count, juvinile other instances count and the degree of the current charge.\n",
        "\n",
        "> Our model does not currently include a bunch of features available in the original dataset, these features could be categorised into the following buckets. A justification for why these categories of features were not included have been added below:\n",
        "> - Identifiers and personal information: These serve no purpose in the predictive model and may include an unnecessary bias factor.\n",
        "> - Dates and times: These are temporal factors which may contribute to overfit and add noise\n",
        "> - Case specific information: Simply categorical descriptions, with very high cardinality and no direct predictive value.\n",
        "> - Post prediction knowledge variables: These can not be included in the predictor set as it gives the model unfair future knowledge which will be reflected in the test data loss.\n",
        "\n",
        "*Partial justifications and categorizations above have been added with a bit of help from Perplexity at 1:30pm on Saturday 09/20*"
      ],
      "metadata": {
        "id": "Vagm7P3981im"
      },
      "id": "Vagm7P3981im"
    },
    {
      "cell_type": "code",
      "source": [
        "import matplotlib.pyplot as plt\n",
        "from sklearn.ensemble import RandomForestClassifier\n",
        "from sklearn.metrics import log_loss\n",
        "\n",
        "train_losses, test_losses = [], []\n",
        "estimator_range = range(1, 101, 5)  # Evaluate from 1 to 100 trees (step of 5)\n",
        "\n",
        "for n in estimator_range:\n",
        "    model = RandomForestClassifier(n_estimators=n, random_state=42)\n",
        "    model.fit(X_train, y_train)\n",
        "    train_loss = log_loss(y_train, model.predict_proba(X_train))\n",
        "    test_loss = log_loss(y_test, model.predict_proba(X_test))\n",
        "    train_losses.append(train_loss)\n",
        "    test_losses.append(test_loss)\n",
        "\n",
        "plt.plot(estimator_range, train_losses, label=\"Training Loss\")\n",
        "plt.plot(estimator_range, test_losses, label=\"Test Loss\")\n",
        "plt.xlabel(\"Number of Estimators (Trees)\")\n",
        "plt.ylabel(\"Log Loss\")\n",
        "plt.title(\"Random Forest: Training/Test Loss vs Estimators\")\n",
        "plt.legend()\n",
        "plt.show()\n"
      ],
      "metadata": {
        "id": "LOeKCzRhNV3b",
        "outputId": "7b970c4d-7ec4-4d21-d400-dcee7845336b",
        "colab": {
          "base_uri": "https://localhost:8080/",
          "height": 472
        }
      },
      "id": "LOeKCzRhNV3b",
      "execution_count": 6,
      "outputs": [
        {
          "output_type": "display_data",
          "data": {
            "text/plain": [
              "<Figure size 640x480 with 1 Axes>"
            ],
            "image/png": "[encoded data removed]"
          },
          "metadata": {}
        }
      ]
    },
    {
      "cell_type": "markdown",
      "source": [
        "> Plotting training and test loss vs number of estimators above, we see that with the selected model (RF, random 42), the model by default will work with 100 trees. This choice makes sense and is justified with the graph above for the following reasons:\n",
        "> - Loss stabilization: test loss seems to dramatically decrease (as expected) and then converge and tends to stabilize near 100 trees, showing no additional benefit with more trees.\n",
        "> - No overfitting: We observe that the model fits the data well as training loss tends to stay low. Test loss does not increase as more trees are added.\n",
        "> - No reason to consider more than 100 trees: Unnecessary increase in computational costs with no/neglegible improvement in the model performance (diminishing returns)\n",
        "\n",
        "*Partial justifications and categorizations above have been added with a bit of help from Perplexity at 1:30pm on Saturday 09/20*"
      ],
      "metadata": {
        "id": "PJRxTDJrOnM3"
      },
      "id": "PJRxTDJrOnM3"
    },
    {
      "cell_type": "code",
      "execution_count": 2,
      "id": "fc902cdf",
      "metadata": {
        "colab": {
          "base_uri": "https://localhost:8080/"
        },
        "id": "fc902cdf",
        "outputId": "35e5a97f-4506-4126-e1f5-2d872ed0f296"
      },
      "outputs": [
        {
          "output_type": "stream",
          "name": "stdout",
          "text": [
            "Prediction for Malik Johnson (Recidivism): [0]\n"
          ]
        }
      ],
      "source": [
        "# 🎯 Focus Instance: Recidivism Risk Case (Malik Johnson)\n",
        "focus_instance_compas = pd.DataFrame([{\n",
        "    \"age\": 27,\n",
        "    \"sex\": 1,  # Male\n",
        "    \"race\": 1,  # African-American\n",
        "    \"priors_count\": 1,\n",
        "    \"juv_fel_count\": 0,\n",
        "    \"juv_misd_count\": 0,\n",
        "    \"juv_other_count\": 0,\n",
        "    \"c_charge_degree\": 1  # Felony\n",
        "}])\n",
        "\n",
        "pred = model_compas.predict(focus_instance_compas)\n",
        "print(\"Prediction for Malik Johnson (Recidivism):\", pred)\n"
      ]
    }
  ],
  "metadata": {
    "colab": {
      "provenance": [],
      "name": "Assignment-machine_learning_court.ipynb",
      "include_colab_link": true
    },
    "kernelspec": {
      "display_name": "Python 3",
      "name": "python3"
    },
    "language_info": {
      "name": "python"
    }
  },
  "nbformat": 4,
  "nbformat_minor": 5
}