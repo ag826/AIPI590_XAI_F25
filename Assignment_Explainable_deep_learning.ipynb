{
  "nbformat": 4,
  "nbformat_minor": 0,
  "metadata": {
    "colab": {
      "provenance": [],
      "authorship_tag": "ABX9TyMfs+TDI79e+xYqBr92cHmd",
      "include_colab_link": true
    },
    "kernelspec": {
      "name": "python3",
      "display_name": "Python 3"
    },
    "language_info": {
      "name": "python"
    }
  },
  "cells": [
    {
      "cell_type": "markdown",
      "metadata": {
        "id": "view-in-github",
        "colab_type": "text"
      },
      "source": [
        "<a href=\"https://colab.research.google.com/github/ag826/AIPI590_XAI_F25/blob/main/Assignment_Explainable_deep_learning.ipynb\" target=\"_parent\"><img src=\"https://colab.research.google.com/assets/colab-badge.svg\" alt=\"Open In Colab\"/></a>"
      ]
    },
    {
      "cell_type": "markdown",
      "source": [
        "# Assignment - Explainable deep Learning\n",
        "**Adil Keku Gazder**\n",
        "\n",
        "**ag825@duke.edu**\n",
        "\n",
        "**For AIPI 590 - XAI, Fall 2025**\n",
        "\n",
        "**Duke University**\n",
        "\n",
        "\n"
      ],
      "metadata": {
        "id": "anE3yPxwDXA8"
      }
    },
    {
      "cell_type": "markdown",
      "source": [
        "We work with a pretrained deep learning models to investigate model explainability in computer vision. Our objective is to apply GradCAM and at least two of its variants to a meaningful image classification problem of your choice and analyze how and why the model makes its decisions.\n",
        "\n",
        "For this assignment, we choose to try and classify satellite images into different categories. We use the EuroSat dataset and the ResNet-50 model. We also do use GradCAM, GradCAM++ and ScoreCAM for the explainability aspect.\n"
      ],
      "metadata": {
        "id": "exH0264eEPbo"
      }
    },
    {
      "cell_type": "code",
      "source": [
        "# Install the library for GradCAM\n",
        "!pip install grad-cam\n",
        "\n",
        "# Import necessary packages\n",
        "import torch\n",
        "from torchvision import models, transforms\n",
        "from torchvision.datasets import EuroSAT\n",
        "from PIL import Image\n",
        "import numpy as np\n",
        "import cv2\n",
        "import matplotlib.pyplot as plt\n",
        "import random\n",
        "\n",
        "# Import the CAM techniques\n",
        "from pytorch_grad_cam import GradCAM, ScoreCAM, GradCAMPlusPlus\n",
        "from pytorch_grad_cam.utils.model_targets import ClassifierOutputTarget\n",
        "from pytorch_grad_cam.utils.image import show_cam_on_image"
      ],
      "metadata": {
        "colab": {
          "base_uri": "https://localhost:8080/"
        },
        "id": "pb2dpCUuFPra",
        "outputId": "50b0a872-89f9-426d-cad1-3751a31b97e6"
      },
      "execution_count": 1,
      "outputs": [
        {
          "output_type": "stream",
          "name": "stdout",
          "text": [
            "Collecting grad-cam\n",
            "  Downloading grad-cam-1.5.5.tar.gz (7.8 MB)\n",
            "\u001b[?25l     \u001b[90m━━━━━━━━━━━━━━━━━━━━━━━━━━━━━━━━━━━━━━━━\u001b[0m \u001b[32m0.0/7.8 MB\u001b[0m \u001b[31m?\u001b[0m eta \u001b[36m-:--:--\u001b[0m\r\u001b[2K     \u001b[91m━━━━━━━━━━━━━━━━━━━━\u001b[0m\u001b[91m╸\u001b[0m\u001b[90m━━━━━━━━━━━━━━━━━━━\u001b[0m \u001b[32m4.1/7.8 MB\u001b[0m \u001b[31m122.1 MB/s\u001b[0m eta \u001b[36m0:00:01\u001b[0m\r\u001b[2K     \u001b[91m━━━━━━━━━━━━━━━━━━━━━━━━━━━━━━━━━━━━━━━\u001b[0m\u001b[91m╸\u001b[0m \u001b[32m7.8/7.8 MB\u001b[0m \u001b[31m149.3 MB/s\u001b[0m eta \u001b[36m0:00:01\u001b[0m\r\u001b[2K     \u001b[90m━━━━━━━━━━━━━━━━━━━━━━━━━━━━━━━━━━━━━━━━\u001b[0m \u001b[32m7.8/7.8 MB\u001b[0m \u001b[31m96.1 MB/s\u001b[0m eta \u001b[36m0:00:00\u001b[0m\n",
            "\u001b[?25h  Installing build dependencies ... \u001b[?25l\u001b[?25hdone\n",
            "  Getting requirements to build wheel ... \u001b[?25l\u001b[?25hdone\n",
            "  Preparing metadata (pyproject.toml) ... \u001b[?25l\u001b[?25hdone\n",
            "Requirement already satisfied: numpy in /usr/local/lib/python3.12/dist-packages (from grad-cam) (2.0.2)\n",
            "Requirement already satisfied: Pillow in /usr/local/lib/python3.12/dist-packages (from grad-cam) (11.3.0)\n",
            "Requirement already satisfied: torch>=1.7.1 in /usr/local/lib/python3.12/dist-packages (from grad-cam) (2.8.0+cu126)\n",
            "Requirement already satisfied: torchvision>=0.8.2 in /usr/local/lib/python3.12/dist-packages (from grad-cam) (0.23.0+cu126)\n",
            "Collecting ttach (from grad-cam)\n",
            "  Downloading ttach-0.0.3-py3-none-any.whl.metadata (5.2 kB)\n",
            "Requirement already satisfied: tqdm in /usr/local/lib/python3.12/dist-packages (from grad-cam) (4.67.1)\n",
            "Requirement already satisfied: opencv-python in /usr/local/lib/python3.12/dist-packages (from grad-cam) (4.12.0.88)\n",
            "Requirement already satisfied: matplotlib in /usr/local/lib/python3.12/dist-packages (from grad-cam) (3.10.0)\n",
            "Requirement already satisfied: scikit-learn in /usr/local/lib/python3.12/dist-packages (from grad-cam) (1.6.1)\n",
            "Requirement already satisfied: filelock in /usr/local/lib/python3.12/dist-packages (from torch>=1.7.1->grad-cam) (3.19.1)\n",
            "Requirement already satisfied: typing-extensions>=4.10.0 in /usr/local/lib/python3.12/dist-packages (from torch>=1.7.1->grad-cam) (4.15.0)\n",
            "Requirement already satisfied: setuptools in /usr/local/lib/python3.12/dist-packages (from torch>=1.7.1->grad-cam) (75.2.0)\n",
            "Requirement already satisfied: sympy>=1.13.3 in /usr/local/lib/python3.12/dist-packages (from torch>=1.7.1->grad-cam) (1.13.3)\n",
            "Requirement already satisfied: networkx in /usr/local/lib/python3.12/dist-packages (from torch>=1.7.1->grad-cam) (3.5)\n",
            "Requirement already satisfied: jinja2 in /usr/local/lib/python3.12/dist-packages (from torch>=1.7.1->grad-cam) (3.1.6)\n",
            "Requirement already satisfied: fsspec in /usr/local/lib/python3.12/dist-packages (from torch>=1.7.1->grad-cam) (2025.3.0)\n",
            "Requirement already satisfied: nvidia-cuda-nvrtc-cu12==12.6.77 in /usr/local/lib/python3.12/dist-packages (from torch>=1.7.1->grad-cam) (12.6.77)\n",
            "Requirement already satisfied: nvidia-cuda-runtime-cu12==12.6.77 in /usr/local/lib/python3.12/dist-packages (from torch>=1.7.1->grad-cam) (12.6.77)\n",
            "Requirement already satisfied: nvidia-cuda-cupti-cu12==12.6.80 in /usr/local/lib/python3.12/dist-packages (from torch>=1.7.1->grad-cam) (12.6.80)\n",
            "Requirement already satisfied: nvidia-cudnn-cu12==9.10.2.21 in /usr/local/lib/python3.12/dist-packages (from torch>=1.7.1->grad-cam) (9.10.2.21)\n",
            "Requirement already satisfied: nvidia-cublas-cu12==12.6.4.1 in /usr/local/lib/python3.12/dist-packages (from torch>=1.7.1->grad-cam) (12.6.4.1)\n",
            "Requirement already satisfied: nvidia-cufft-cu12==11.3.0.4 in /usr/local/lib/python3.12/dist-packages (from torch>=1.7.1->grad-cam) (11.3.0.4)\n",
            "Requirement already satisfied: nvidia-curand-cu12==10.3.7.77 in /usr/local/lib/python3.12/dist-packages (from torch>=1.7.1->grad-cam) (10.3.7.77)\n",
            "Requirement already satisfied: nvidia-cusolver-cu12==11.7.1.2 in /usr/local/lib/python3.12/dist-packages (from torch>=1.7.1->grad-cam) (11.7.1.2)\n",
            "Requirement already satisfied: nvidia-cusparse-cu12==12.5.4.2 in /usr/local/lib/python3.12/dist-packages (from torch>=1.7.1->grad-cam) (12.5.4.2)\n",
            "Requirement already satisfied: nvidia-cusparselt-cu12==0.7.1 in /usr/local/lib/python3.12/dist-packages (from torch>=1.7.1->grad-cam) (0.7.1)\n",
            "Requirement already satisfied: nvidia-nccl-cu12==2.27.3 in /usr/local/lib/python3.12/dist-packages (from torch>=1.7.1->grad-cam) (2.27.3)\n",
            "Requirement already satisfied: nvidia-nvtx-cu12==12.6.77 in /usr/local/lib/python3.12/dist-packages (from torch>=1.7.1->grad-cam) (12.6.77)\n",
            "Requirement already satisfied: nvidia-nvjitlink-cu12==12.6.85 in /usr/local/lib/python3.12/dist-packages (from torch>=1.7.1->grad-cam) (12.6.85)\n",
            "Requirement already satisfied: nvidia-cufile-cu12==1.11.1.6 in /usr/local/lib/python3.12/dist-packages (from torch>=1.7.1->grad-cam) (1.11.1.6)\n",
            "Requirement already satisfied: triton==3.4.0 in /usr/local/lib/python3.12/dist-packages (from torch>=1.7.1->grad-cam) (3.4.0)\n",
            "Requirement already satisfied: contourpy>=1.0.1 in /usr/local/lib/python3.12/dist-packages (from matplotlib->grad-cam) (1.3.3)\n",
            "Requirement already satisfied: cycler>=0.10 in /usr/local/lib/python3.12/dist-packages (from matplotlib->grad-cam) (0.12.1)\n",
            "Requirement already satisfied: fonttools>=4.22.0 in /usr/local/lib/python3.12/dist-packages (from matplotlib->grad-cam) (4.60.1)\n",
            "Requirement already satisfied: kiwisolver>=1.3.1 in /usr/local/lib/python3.12/dist-packages (from matplotlib->grad-cam) (1.4.9)\n",
            "Requirement already satisfied: packaging>=20.0 in /usr/local/lib/python3.12/dist-packages (from matplotlib->grad-cam) (25.0)\n",
            "Requirement already satisfied: pyparsing>=2.3.1 in /usr/local/lib/python3.12/dist-packages (from matplotlib->grad-cam) (3.2.5)\n",
            "Requirement already satisfied: python-dateutil>=2.7 in /usr/local/lib/python3.12/dist-packages (from matplotlib->grad-cam) (2.9.0.post0)\n",
            "Requirement already satisfied: scipy>=1.6.0 in /usr/local/lib/python3.12/dist-packages (from scikit-learn->grad-cam) (1.16.2)\n",
            "Requirement already satisfied: joblib>=1.2.0 in /usr/local/lib/python3.12/dist-packages (from scikit-learn->grad-cam) (1.5.2)\n",
            "Requirement already satisfied: threadpoolctl>=3.1.0 in /usr/local/lib/python3.12/dist-packages (from scikit-learn->grad-cam) (3.6.0)\n",
            "Requirement already satisfied: six>=1.5 in /usr/local/lib/python3.12/dist-packages (from python-dateutil>=2.7->matplotlib->grad-cam) (1.17.0)\n",
            "Requirement already satisfied: mpmath<1.4,>=1.1.0 in /usr/local/lib/python3.12/dist-packages (from sympy>=1.13.3->torch>=1.7.1->grad-cam) (1.3.0)\n",
            "Requirement already satisfied: MarkupSafe>=2.0 in /usr/local/lib/python3.12/dist-packages (from jinja2->torch>=1.7.1->grad-cam) (3.0.3)\n",
            "Downloading ttach-0.0.3-py3-none-any.whl (9.8 kB)\n",
            "Building wheels for collected packages: grad-cam\n",
            "  Building wheel for grad-cam (pyproject.toml) ... \u001b[?25l\u001b[?25hdone\n",
            "  Created wheel for grad-cam: filename=grad_cam-1.5.5-py3-none-any.whl size=44284 sha256=02ce3fea1b059eb5134ad8d91984137da7774a9ff9b81ee948bee16d47171aff\n",
            "  Stored in directory: /root/.cache/pip/wheels/fb/3b/09/2afc520f3d69bc26ae6bd87416759c820a3f7d05c1a077bbf6\n",
            "Successfully built grad-cam\n",
            "Installing collected packages: ttach, grad-cam\n",
            "Successfully installed grad-cam-1.5.5 ttach-0.0.3\n"
          ]
        }
      ]
    },
    {
      "cell_type": "code",
      "source": [
        "# Load a pretrained model (ResNet-50)\n",
        "model = models.resnet50(pretrained=True)\n",
        "model.eval() # Set the model to evaluation mode\n",
        "\n",
        "# Define the target layer for ResNet-50's CAM\n",
        "target_layers = [model.layer4[-1]]\n",
        "\n",
        "# Define the image transformations required by ResNet-50\n",
        "transform = transforms.Compose([\n",
        "    transforms.Resize((224, 224)),\n",
        "    transforms.ToTensor(),\n",
        "    transforms.Normalize(mean=[0.485, 0.456, 0.406], std=[0.229, 0.224, 0.225]),\n",
        "])\n",
        "\n",
        "# Download and load the EuroSAT dataset\n",
        "eurosat_dataset = EuroSAT(root=\"data\", download=True, transform=transform)\n",
        "class_names = eurosat_dataset.classes\n",
        "print(\"EuroSAT Classes:\", class_names)"
      ],
      "metadata": {
        "colab": {
          "base_uri": "https://localhost:8080/"
        },
        "id": "d32rJkcgFc23",
        "outputId": "10f74482-d5b5-4bfe-b91e-29576ff0a196"
      },
      "execution_count": 2,
      "outputs": [
        {
          "output_type": "stream",
          "name": "stderr",
          "text": [
            "/usr/local/lib/python3.12/dist-packages/torchvision/models/_utils.py:208: UserWarning: The parameter 'pretrained' is deprecated since 0.13 and may be removed in the future, please use 'weights' instead.\n",
            "  warnings.warn(\n",
            "/usr/local/lib/python3.12/dist-packages/torchvision/models/_utils.py:223: UserWarning: Arguments other than a weight enum or `None` for 'weights' are deprecated since 0.13 and may be removed in the future. The current behavior is equivalent to passing `weights=ResNet50_Weights.IMAGENET1K_V1`. You can also use `weights=ResNet50_Weights.DEFAULT` to get the most up-to-date weights.\n",
            "  warnings.warn(msg)\n"
          ]
        },
        {
          "output_type": "stream",
          "name": "stdout",
          "text": [
            "Downloading: \"https://download.pytorch.org/models/resnet50-0676ba61.pth\" to /root/.cache/torch/hub/checkpoints/resnet50-0676ba61.pth\n"
          ]
        },
        {
          "output_type": "stream",
          "name": "stderr",
          "text": [
            "100%|██████████| 97.8M/97.8M [00:01<00:00, 94.7MB/s]\n",
            "100%|██████████| 94.3M/94.3M [00:00<00:00, 162MB/s]\n"
          ]
        },
        {
          "output_type": "stream",
          "name": "stdout",
          "text": [
            "EuroSAT Classes: ['AnnualCrop', 'Forest', 'HerbaceousVegetation', 'Highway', 'Industrial', 'Pasture', 'PermanentCrop', 'Residential', 'River', 'SeaLake']\n"
          ]
        }
      ]
    },
    {
      "cell_type": "code",
      "source": [
        "\n",
        "# --- Helper function: un-normalize an image tensor for visualization ---\n",
        "def un_normalize(tensor):\n",
        "    mean = np.array([0.485, 0.456, 0.406])\n",
        "    std = np.array([0.229, 0.224, 0.225])\n",
        "    tensor = tensor.clone().detach().cpu().numpy().squeeze().transpose((1, 2, 0))\n",
        "    tensor = std * tensor + mean\n",
        "    tensor = np.clip(tensor, 0, 1)\n",
        "    return tensor\n",
        "\n",
        "# --- Randomly select 5 different classes ---\n",
        "unique_labels = list(set([label for _, label in eurosat_dataset]))\n",
        "selected_labels = random.sample(unique_labels, 5)\n",
        "\n",
        "# --- Initialize CAM methods once ---\n",
        "cam_gradcam = GradCAM(model=model, target_layers=target_layers)\n",
        "cam_gradcam_plusplus = GradCAMPlusPlus(model=model, target_layers=target_layers)\n",
        "cam_scorecam = ScoreCAM(model=model, target_layers=target_layers)\n",
        "\n",
        "# --- Set up plotting ---\n",
        "fig, axs = plt.subplots(5, 4, figsize=(16, 20))\n",
        "plt.subplots_adjust(hspace=0.4)\n",
        "fig.suptitle(\"GradCAM Visualizations for 5 Different EuroSAT Classes\", fontsize=18)\n",
        "\n",
        "# --- Loop over selected classes ---\n",
        "for row, label in enumerate(selected_labels):\n",
        "    # Find an image of this class\n",
        "    class_name = class_names[label]\n",
        "    class_indices = [i for i, (_, lbl) in enumerate(eurosat_dataset) if lbl == label]\n",
        "    img, lbl = eurosat_dataset[class_indices[0]]  # Take the first image for simplicity\n",
        "\n",
        "    # Prepare the input tensor\n",
        "    input_tensor = img.unsqueeze(0)\n",
        "    rgb_img = un_normalize(img)\n",
        "\n",
        "    # Model prediction and target\n",
        "    prediction_idx = model(input_tensor).argmax()\n",
        "    targets = [ClassifierOutputTarget(prediction_idx)]\n",
        "\n",
        "    # Generate grayscale CAMs\n",
        "    grayscale_gradcam = cam_gradcam(input_tensor=input_tensor, targets=targets)[0, :]\n",
        "    grayscale_gradcam_plusplus = cam_gradcam_plusplus(input_tensor=input_tensor, targets=targets)[0, :]\n",
        "    grayscale_scorecam = cam_scorecam(input_tensor=input_tensor, targets=targets)[0, :]\n",
        "\n",
        "    # Overlay heatmaps\n",
        "    vis_gradcam = show_cam_on_image(rgb_img, grayscale_gradcam, use_rgb=True)\n",
        "    vis_gradcam_plusplus = show_cam_on_image(rgb_img, grayscale_gradcam_plusplus, use_rgb=True)\n",
        "    vis_scorecam = show_cam_on_image(rgb_img, grayscale_scorecam, use_rgb=True)\n",
        "\n",
        "    # --- Plot results for this image ---\n",
        "    axs[row, 0].imshow(rgb_img)\n",
        "    axs[row, 0].set_title(f\"Original: {class_name}\")\n",
        "    axs[row, 0].axis('off')\n",
        "\n",
        "    axs[row, 1].imshow(vis_gradcam)\n",
        "    axs[row, 1].set_title(\"GradCAM\")\n",
        "    axs[row, 1].axis('off')\n",
        "\n",
        "    axs[row, 2].imshow(vis_gradcam_plusplus)\n",
        "    axs[row, 2].set_title(\"Grad-CAM++\")\n",
        "    axs[row, 2].axis('off')\n",
        "\n",
        "    axs[row, 3].imshow(vis_scorecam)\n",
        "    axs[row, 3].set_title(\"ScoreCAM\")\n",
        "    axs[row, 3].axis('off')\n",
        "\n",
        "plt.show()"
      ],
      "metadata": {
        "colab": {
          "base_uri": "https://localhost:8080/"
        },
        "id": "m5IAe7-vIaM9",
        "outputId": "b4edcef9-75bc-485f-c3d5-df1f0af0da08"
      },
      "execution_count": null,
      "outputs": [
        {
          "output_type": "stream",
          "name": "stderr",
          "text": [
            " 19%|█▉        | 24/128 [01:33<06:39,  3.84s/it]"
          ]
        }
      ]
    }
  ]
}